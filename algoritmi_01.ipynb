{
 "cells": [
  {
   "cell_type": "code",
   "execution_count": null,
   "metadata": {
    "vscode": {
     "languageId": "ruby"
    }
   },
   "outputs": [],
   "source": [
    "#exo 1\n",
    "3_MAX\n",
    "Nombre_a (entier) Nombre_b(entier), Nombre_c(entier)\n",
    "\n",
    "DEBUT \n",
    "    SI Nombre_a > nombre_b ET nombre_a > nombre_c\n",
    "        Alors AFFICHER \"A\"\n",
    "    SINON SI Nombre_b > nombre_a ET nombre_b > nombre_c\n",
    "        Alors AFFICHER \"B\"\n",
    "    SINON \n",
    "        Alors AFFICHER \"C\"\n",
    "FIN\n"
   ]
  },
  {
   "cell_type": "code",
   "execution_count": null,
   "metadata": {
    "vscode": {
     "languageId": "ruby"
    }
   },
   "outputs": [],
   "source": [
    "#exo 2\n",
    "\n",
    "NB_PARFAIT\n",
    "somme,chiffre(entier)\n",
    "\n",
    "DEBUT \n",
    "    POUR i allant de 1 à chiffre - 1 \n",
    "        SI chiffre % i = 0\n",
    "           somme <- somme + i\n",
    "    SI chiffre = somme \n",
    "        ALORS AFFICHIER chifre,\"est parfait\" \n",
    "FIN "
   ]
  },
  {
   "cell_type": "code",
   "execution_count": null,
   "metadata": {
    "vscode": {
     "languageId": "ruby"
    }
   },
   "outputs": [],
   "source": [
    "#exo 3\n",
    "\n",
    "moyenne_notes\n",
    "notes(liste),moyenne(float)\n",
    "\n",
    "DEBUT \n",
    "    POUR i allant de 0 à taille(notes)-1\n",
    "        moyenne <- + notes[i]\n",
    "    AFFICHER \"la moyenne est egal à \", moyenne/taille(notes)\n",
    "FIN"
   ]
  },
  {
   "cell_type": "code",
   "execution_count": null,
   "metadata": {
    "vscode": {
     "languageId": "ruby"
    }
   },
   "outputs": [],
   "source": [
    "#exo 4\n",
    "\n",
    "inverser une chaine de caractere\n",
    "chaine(str),resultat(str)\n",
    "\n",
    "DEBUT \n",
    "    POUR i allant de 0 a taille(chaine)-1 avec un pas de -1\n",
    "        resultat <- + chaine[i]\n",
    "    Afficher resultat\n",
    "FIN"
   ]
  },
  {
   "cell_type": "code",
   "execution_count": null,
   "metadata": {
    "vscode": {
     "languageId": "ruby"
    }
   },
   "outputs": [],
   "source": [
    "#exo 5\n",
    "\n",
    "suite de fibo\n",
    "n,n_avant,recurence\n",
    "\n",
    "DEBUT \n",
    "    SI n != 0 \n",
    "        n <- 1\n",
    "        n_avant <-0 \n",
    "        pour i allant 1 a recurence-1 :  \n",
    "            n,n_avant = n + n_avant , n\n",
    "        AFFICHER n \n",
    "    SINON \n",
    "        AFFICHER 0\n",
    "FIN \n",
    "\n"
   ]
  },
  {
   "cell_type": "code",
   "execution_count": null,
   "metadata": {
    "vscode": {
     "languageId": "ruby"
    }
   },
   "outputs": [],
   "source": [
    "#exo 6\n",
    "\n",
    "trier \n",
    "liste(liste),min(entier)\n",
    "\n",
    "DEBUT \n",
    "    POUR i allant de 0 a taille(liste)-1\n",
    "        POUR j allant de i a taille(liste)-1\n",
    "            SI liste[j] < liste[min] \n",
    "                min = j \n",
    "        liste[i],liste[min] = liste[min],liste[i]\n",
    "FIN"
   ]
  },
  {
   "cell_type": "code",
   "execution_count": null,
   "metadata": {
    "vscode": {
     "languageId": "ruby"
    }
   },
   "outputs": [],
   "source": [
    "#exo 7\n",
    "\n",
    "nombre_premier \n",
    "n(entier)\n",
    "\n",
    "DEBUT \n",
    "    POUR i allant de 0 a n \n",
    "        SI n / i est entier \n",
    "            AFFCIHER n,\"NEST PAS PREMIER\"\n",
    "    AFFICHER n \"EST PREMIER\"\n",
    "FIN"
   ]
  },
  {
   "cell_type": "code",
   "execution_count": null,
   "metadata": {
    "vscode": {
     "languageId": "ruby"
    }
   },
   "outputs": [],
   "source": [
    "#exo 8\n",
    "\n",
    "voyelle\n",
    "chaine(str),voyelle(set),resultat(entier)\n",
    "\n",
    "DEBUT \n",
    "    voyelle <- [\"a\",\"e\",\"i\",\"o\",\"u\",\"y\"]\n",
    "    POUR caractere dans chaine \n",
    "        SI caractere est dans voyelle \n",
    "            Alors resultat <- +1\n",
    "    AFFICHER resultat\n",
    "FIN"
   ]
  }
 ],
 "metadata": {
  "language_info": {
   "name": "python"
  }
 },
 "nbformat": 4,
 "nbformat_minor": 2
}
