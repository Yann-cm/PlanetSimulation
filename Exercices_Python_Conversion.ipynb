{
 "cells": [
  {
   "cell_type": "markdown",
   "metadata": {},
   "source": [
    "# Exercices des pseudo-code LDA convertis en Python"
   ]
  },
  {
   "cell_type": "markdown",
   "metadata": {},
   "source": [
    "Ce notebook contient les exercices donnés en pseudo-code et leurs conversions en Python."
   ]
  },
  {
   "cell_type": "markdown",
   "metadata": {},
   "source": [
    "## Exercice 1 : Trouver le plus grand de trois nombres"
   ]
  },
  {
   "cell_type": "markdown",
   "metadata": {},
   "source": [
    "\n",
    "**Pseudo-Code :**\n",
    "```plaintext\n",
    "ALGORITHME PlusGrandDeTrois\n",
    "    Variables :\n",
    "        x, y, z, max (Entier)\n",
    "\n",
    "    Début\n",
    "        Lire x, y, z\n",
    "        max ← x\n",
    "        SI y > max ALORS\n",
    "            max ← y\n",
    "        FIN\n",
    "        SI z > max ALORS\n",
    "            max ← z\n",
    "        FIN\n",
    "        Afficher \"Le plus grand est \", max\n",
    "    Fin\n",
    "```\n"
   ]
  },
  {
   "cell_type": "code",
   "execution_count": null,
   "metadata": {},
   "outputs": [],
   "source": []
  },
  {
   "cell_type": "markdown",
   "metadata": {},
   "source": [
    "## Exercice 2 : Vérification d’un nombre parfait"
   ]
  },
  {
   "cell_type": "markdown",
   "metadata": {},
   "source": [
    "\n",
    "**Pseudo-Code :**\n",
    "```plaintext\n",
    "ALGORITHME NombreParfait\n",
    "    Variables :\n",
    "        n, somme, i (Entier)\n",
    "    \n",
    "    Début\n",
    "        Lire n\n",
    "        somme ← 0\n",
    "        POUR i de 1 à n-1 FAIRE\n",
    "            SI n mod i = 0 ALORS\n",
    "                somme ← somme + i\n",
    "            FIN\n",
    "        FIN\n",
    "        SI somme = n ALORS\n",
    "            Afficher n, \" est un nombre parfait\"\n",
    "        SINON\n",
    "            Afficher n, \" n'est pas un nombre parfait\"\n",
    "        FIN\n",
    "    Fin\n",
    "```\n"
   ]
  },
  {
   "cell_type": "code",
   "execution_count": null,
   "metadata": {},
   "outputs": [],
   "source": []
  },
  {
   "cell_type": "markdown",
   "metadata": {},
   "source": [
    "## Exercice 3 : Calcul de la moyenne des notes"
   ]
  },
  {
   "cell_type": "markdown",
   "metadata": {},
   "source": [
    "\n",
    "**Pseudo-Code :**\n",
    "```plaintext\n",
    "ALGORITHME MoyenneDesNotes\n",
    "    Variables :\n",
    "        notes (Tableau de Réels), n, i (Entier)\n",
    "        somme, moyenne (Réel)\n",
    "    \n",
    "    Début\n",
    "        somme ← 0\n",
    "        Lire n\n",
    "        POUR i de 1 à n FAIRE\n",
    "            Lire notes[i]\n",
    "            somme ← somme + notes[i]\n",
    "        FIN\n",
    "        moyenne ← somme / n\n",
    "        Afficher \"La moyenne des notes est \", moyenne\n",
    "    Fin\n",
    "```\n"
   ]
  },
  {
   "cell_type": "code",
   "execution_count": null,
   "metadata": {},
   "outputs": [],
   "source": []
  },
  {
   "cell_type": "markdown",
   "metadata": {},
   "source": [
    "## Exercice 4 : Inverser une chaîne de caractères"
   ]
  },
  {
   "cell_type": "markdown",
   "metadata": {},
   "source": [
    "\n",
    "**Pseudo-Code :**\n",
    "```plaintext\n",
    "ALGORITHME InverserChaine\n",
    "    Variables :\n",
    "        chaine, chaine_inverse (Chaîne)\n",
    "        i (Entier)\n",
    "    \n",
    "    Début\n",
    "        Lire chaine\n",
    "        chaine_inverse ← \"\"\n",
    "        POUR i de longueur(chaine) à 1 PAR pas de -1 FAIRE\n",
    "            chaine_inverse ← chaine_inverse + chaine[i]\n",
    "        FIN\n",
    "        Afficher \"La chaîne inversée est : \", chaine_inverse\n",
    "    Fin\n",
    "```\n"
   ]
  },
  {
   "cell_type": "code",
   "execution_count": null,
   "metadata": {},
   "outputs": [],
   "source": []
  }
 ],
 "metadata": {
  "kernelspec": {
   "display_name": "Python 3",
   "language": "python",
   "name": "python3"
  },
  "language_info": {
   "codemirror_mode": {
    "name": "ipython",
    "version": 3
   },
   "file_extension": ".py",
   "mimetype": "text/x-python",
   "name": "python",
   "nbconvert_exporter": "python",
   "pygments_lexer": "ipython3",
   "version": "3.6.4"
  }
 },
 "nbformat": 4,
 "nbformat_minor": 5
}
