{
 "cells": [
  {
   "cell_type": "markdown",
   "metadata": {},
   "source": [
    "# **Cours d'Algorithmie en Python**"
   ]
  },
  {
   "cell_type": "markdown",
   "metadata": {},
   "source": [
    "\n",
    "## **Objectifs du cours**\n",
    "- Comprendre les **principes de base de l'algorithmie**\n",
    "- Apprendre à traduire des algorithmes en **code Python**\n",
    "- Explorer des **algorithmes classiques** comme les recherches, les tris et les structures de contrôle\n",
    "- Appliquer des concepts tels que la **complexité algorithmique**\n",
    "- Résoudre des exercices avec **corrections détaillées**"
   ]
  },
  {
   "cell_type": "markdown",
   "metadata": {},
   "source": [
    "## **I. Rappels sur l'algorithmie**"
   ]
  },
  {
   "cell_type": "markdown",
   "metadata": {},
   "source": [
    "\n",
    "### **1. Qu’est-ce qu’un algorithme ?**\n",
    "Un **algorithme** est une série d’étapes finies permettant de résoudre un problème. Il doit être :\n",
    "1. **Fini** : Se termine après un certain nombre d'étapes.\n",
    "2. **Clair** : Les étapes doivent être compréhensibles.\n",
    "3. **Efficace** : Utilise des ressources de manière optimale.\n"
   ]
  },
  {
   "cell_type": "markdown",
   "metadata": {},
   "source": [
    "### Les algorithmes en Python deviennent des fonctions"
   ]
  },
  {
   "cell_type": "markdown",
   "metadata": {},
   "source": [
    "En Python, une fonction est un bloc de code réutilisable qui effectue une tâche spécifique. Elle est définie à l'aide du mot-clé def."
   ]
  },
  {
   "cell_type": "markdown",
   "metadata": {},
   "source": [
    "```python\n",
    "def nom_de_la_fonction(param1, param2, ...):\n",
    "    \"\"\"\n",
    "    Documentation de la fonction (optionnelle).\n",
    "    \"\"\"\n",
    "    # Bloc d'instructions\n",
    "    return valeur  # Optionnel\n",
    "```"
   ]
  },
  {
   "cell_type": "markdown",
   "metadata": {},
   "source": [
    "###### Fonctions avec paramètres\n",
    "```python\n",
    "def addition(a, b):\n",
    "    \"\"\"Retourne la somme de deux nombres.\"\"\"\n",
    "    return a + b\n",
    "\n",
    "# Appel de la fonction\n",
    "resultat = addition(5, 7)\n",
    "print(f\"Le résultat de l'addition est : {resultat}\")\n",
    "```"
   ]
  },
  {
   "cell_type": "markdown",
   "metadata": {},
   "source": [
    "\n",
    "### **2. Exemple : Trouver le maximum entre deux nombres**\n",
    "#### **Pseudo-code :**\n",
    "1. Lire les deux nombres\n",
    "2. Comparer l'element x et y\n",
    "3. Si x > y, alors stocker x dans max\n",
    "4. sinon stocker y dans `max`.\n",
    "5. Retourner `max` avec un affichage\n"
   ]
  },
  {
   "cell_type": "markdown",
   "metadata": {},
   "source": [
    "#### **LDA:**\n",
    "\n",
    "ALGORITHME Trouver_Maximum  \n",
    "    Variables :  \n",
    "        x, y, max (Entier)  \n",
    "\n",
    "    Début\n",
    "        Lire x\n",
    "        Lire y\n",
    "\n",
    "        SI x > y ALORS\n",
    "            max ← x\n",
    "        SINON\n",
    "            max ← y\n",
    "        FIN\n",
    "\n",
    "        Afficher \"Le maximum est \", max\n",
    "    Fin"
   ]
  },
  {
   "cell_type": "code",
   "execution_count": 1,
   "metadata": {},
   "outputs": [
    {
     "name": "stdout",
     "output_type": "stream",
     "text": [
      "Le maximum est : 172292\n"
     ]
    }
   ],
   "source": [
    "def trouver_maximum(x, y):\n",
    "    # Détermination du maximum\n",
    "    if x > y:\n",
    "        max_val = x\n",
    "    else:\n",
    "        max_val = y\n",
    "\n",
    "    # Affichage du résultat\n",
    "    print(\"Le maximum est :\", max_val)\n",
    "\n",
    "# test\n",
    "trouver_maximum(6,172292)"
   ]
  },
  {
   "cell_type": "markdown",
   "metadata": {},
   "source": [
    "## **II. Structures de contrôle**"
   ]
  },
  {
   "cell_type": "markdown",
   "metadata": {},
   "source": [
    "\n",
    "### **1. Variables et types de données**\n",
    "En Python, les variables n’ont pas besoin d’être déclarées explicitement.\n",
    "\n",
    "```python\n",
    "entier = 10\n",
    "flottant = 10.5\n",
    "chaine = \"Bonjour\"\n",
    "liste = [1, 2, 3]\n",
    "dictionnaire = {\"clé\": \"valeur\"}\n",
    "ensemble = {1,2,3,33}\n",
    "tuple_1 = (1, \"pomme\", True)\n",
    "\n",
    "```\n"
   ]
  },
  {
   "cell_type": "markdown",
   "metadata": {},
   "source": [
    "\n",
    "### **Exercice 1 : Somme des éléments d’une liste**\n",
    "**Énoncé :** Créer une liste de 5 nombres et afficher leur somme.\n"
   ]
  },
  {
   "cell_type": "code",
   "execution_count": null,
   "metadata": {},
   "outputs": [],
   "source": [
    "# Correction\n",
    "liste = [3, 5, 7, 2, 8]\n",
    "somme = sum(liste)\n",
    "print(somme)  "
   ]
  },
  {
   "cell_type": "markdown",
   "metadata": {},
   "source": [
    "\n",
    "### **2. Structures conditionnelles**\n",
    "Les **conditions** permettent de choisir entre plusieurs chemins.\n",
    "\n",
    "```python\n",
    "x = 10\n",
    "if x > 5:\n",
    "    print(\"x est grand\")\n",
    "elif x == 5:\n",
    "    print(\"x est moyen\")\n",
    "else:\n",
    "    print(\"x est petit\")\n",
    "```\n"
   ]
  },
  {
   "cell_type": "markdown",
   "metadata": {},
   "source": [
    "\n",
    "### **Exercice 2 : Nombre pair ou impair**\n",
    "**Énoncé :** Écrire une fonction qui retourne si un nombre est pair ou impair.\n"
   ]
  },
  {
   "cell_type": "code",
   "execution_count": null,
   "metadata": {},
   "outputs": [],
   "source": [
    "# Correction\n",
    "def pair_ou_impair(nombre):\n",
    "    if nombre % 2 == 0:\n",
    "        return \"Pair\"\n",
    "    else:\n",
    "        return \"Impair\"\n",
    "\n",
    "# Test\n",
    "print(pair_ou_impair(7))  \n",
    "print(pair_ou_impair(10)) "
   ]
  },
  {
   "cell_type": "markdown",
   "metadata": {},
   "source": [
    "\n",
    "### **3. Boucles (for et while)**\n",
    "#### **Boucle for :**\n",
    "```python\n",
    "for i in range(5):\n",
    "    print(i)  # Affiche 0, 1, 2, 3, 4\n",
    "```\n",
    "#### **Boucle while :**\n",
    "```python\n",
    "i = 0\n",
    "while i < 5:\n",
    "    print(i)\n",
    "    i += 1\n",
    "```\n"
   ]
  },
  {
   "cell_type": "markdown",
   "metadata": {},
   "source": [
    "\n",
    "### **Exercice 3 : Table de multiplication**\n",
    "**Énoncé :** Écrire un programme qui affiche la table de multiplication d’un nombre donné.\n"
   ]
  },
  {
   "cell_type": "code",
   "execution_count": null,
   "metadata": {},
   "outputs": [],
   "source": [
    "# Correction\n",
    "def table_multiplication(n):\n",
    "    for i in range(1, 11):\n",
    "        print(f\"{n} x {i} = {n * i}\")\n",
    "\n",
    "# Test\n",
    "table_multiplication(5)"
   ]
  },
  {
   "cell_type": "markdown",
   "metadata": {},
   "source": [
    "## **III. Algorithmes classiques**"
   ]
  },
  {
   "cell_type": "markdown",
   "metadata": {},
   "source": [
    "\n",
    "### **1. Recherche linéaire**\n",
    "Cherche un élément dans une liste non triée.\n"
   ]
  },
  {
   "cell_type": "code",
   "execution_count": null,
   "metadata": {},
   "outputs": [],
   "source": [
    "def recherche_lineaire(liste, cible):\n",
    "    for i, valeur in enumerate(liste):\n",
    "        if valeur == cible:\n",
    "            return i\n",
    "    return -1\n",
    "\n",
    "# Test\n",
    "liste = [4, 2, 7, 1]\n",
    "print(recherche_lineaire(liste, 7))  "
   ]
  },
  {
   "cell_type": "markdown",
   "metadata": {},
   "source": [
    "\n",
    "### **Exercice 4 : Recherche linéaire**\n",
    "**Énoncé :** Modifier l’algorithme pour retourner \"Non trouvé\" si l’élément est absent.\n"
   ]
  },
  {
   "cell_type": "code",
   "execution_count": 3,
   "metadata": {},
   "outputs": [
    {
     "name": "stdout",
     "output_type": "stream",
     "text": [
      "Non trouvé\n"
     ]
    }
   ],
   "source": [
    "# Correction\n",
    "def recherche_lineaire(liste, cible): \n",
    "    for i, valeur in enumerate(liste):#La fonction enumerate() est utilisée pour itérer sur une collection tout en ayant\n",
    "                                    #accès simultanément à l'indice et à la valeur de chaque élément de cette collection\n",
    "        if valeur == cible:\n",
    "            return i\n",
    "    return \"Non trouvé\"\n",
    "\n",
    "# Test\n",
    "liste = [4, 2, 7, 1]\n",
    "print(recherche_lineaire(liste, 5))"
   ]
  },
  {
   "cell_type": "markdown",
   "metadata": {},
   "source": [
    "\n",
    "### **2. Recherche binaire**\n",
    "La fonction recherche_binaire est un algorithme pour chercher un élément spécifique (cible) dans une liste triée (liste) en utilisant une approche dite \"diviser pour régner\". Si l’élément est trouvé, la fonction retourne son indice dans la liste. Sinon, elle retourne -1."
   ]
  },
  {
   "cell_type": "code",
   "execution_count": 6,
   "metadata": {},
   "outputs": [],
   "source": [
    "def recherche_binaire(liste, cible):\n",
    "    debut, fin = 0, len(liste) - 1\n",
    "    while debut <= fin:\n",
    "        milieu = (debut + fin) // 2\n",
    "        if liste[milieu] == cible: #cela signifie que l’élément cible se trouve au milieu\n",
    "            return milieu\n",
    "        elif liste[milieu] < cible: #cela signifie que l’élément cible se trouve dans la moitié droite de la liste.\n",
    "            debut = milieu + 1\n",
    "        else:                       #cela signifie que l’élément cible se trouve dans la moitié gauche de la liste.\n",
    "            fin = milieu - 1\n",
    "    return -1"
   ]
  },
  {
   "cell_type": "code",
   "execution_count": 5,
   "metadata": {},
   "outputs": [
    {
     "name": "stdout",
     "output_type": "stream",
     "text": [
      "2\n"
     ]
    }
   ],
   "source": [
    "# Test\n",
    "liste = [1, 3, 5, 7, 9]\n",
    "print(recherche_binaire(liste, 5))  "
   ]
  },
  {
   "cell_type": "markdown",
   "metadata": {},
   "source": [
    "**Étapes du test :  **\n",
    "- Initialisation :  \n",
    "    debut = 0, fin = 4, milieu = (0 + 4) // 2 = 2  \n",
    "    liste[2] = 5 correspond à la cible  \n",
    "- Retour :  \n",
    "    La fonction retourne milieu = 2  "
   ]
  }
 ],
 "metadata": {
  "kernelspec": {
   "display_name": "Python 3",
   "language": "python",
   "name": "python3"
  },
  "language_info": {
   "codemirror_mode": {
    "name": "ipython",
    "version": 3
   },
   "file_extension": ".py",
   "mimetype": "text/x-python",
   "name": "python",
   "nbconvert_exporter": "python",
   "pygments_lexer": "ipython3",
   "version": "3.6.4"
  }
 },
 "nbformat": 4,
 "nbformat_minor": 5
}
